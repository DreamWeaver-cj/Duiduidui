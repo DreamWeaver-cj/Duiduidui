{
 "cells": [
  {
   "cell_type": "code",
   "execution_count": 1,
   "metadata": {},
   "outputs": [
    {
     "data": {
      "text/plain": [
       "array([[6001, 6002],\n",
       "       [6002, 6003],\n",
       "       [6003, 6007],\n",
       "       [6003, 6004],\n",
       "       [6004, 6008],\n",
       "       [6005, 6001],\n",
       "       [6006, 6005],\n",
       "       [6006, 6002],\n",
       "       [6007, 6006],\n",
       "       [6008, 6007]])"
      ]
     },
     "execution_count": 1,
     "metadata": {},
     "output_type": "execute_result"
    }
   ],
   "source": [
    "import numpy as np\n",
    "\n",
    "dataset = np.genfromtxt('../test_data_order.txt', delimiter=',', dtype=int)\n",
    "dataset.shape\n",
    "\n",
    "# ds = dataset[:10]\n",
    "ds = dataset[-10:, :-1]\n",
    "ds"
   ]
  },
  {
   "cell_type": "code",
   "execution_count": 9,
   "metadata": {},
   "outputs": [
    {
     "data": {
      "text/plain": [
       "[[1, 2, 3], [1, 2, 4], [1, 3, 4], [2, 3, 4]]"
      ]
     },
     "execution_count": 9,
     "metadata": {},
     "output_type": "execute_result"
    }
   ],
   "source": [
    "def combine(n: int, k: int):\n",
    "    \"\"\"\n",
    "    :type n: int\n",
    "    :type k: int\n",
    "    :rtype: List[List[int]]\n",
    "    \"\"\"\n",
    "    if k>n or k==0:\n",
    "        return []\n",
    "    if k==1:\n",
    "        return [[i] for i in range(1,n+1)]\n",
    "    if k==n:\n",
    "        return [[i for i in range(1,n+1)]]\n",
    "\n",
    "    answer=combine(n-1,k)\n",
    "    for item in combine(n-1,k-1):\n",
    "        item.append(n)\n",
    "        answer.append(item)\n",
    "\n",
    "    return answer\n",
    "combine(n=4,k=3)"
   ]
  },
  {
   "cell_type": "code",
   "execution_count": null,
   "metadata": {},
   "outputs": [],
   "source": []
  },
  {
   "cell_type": "code",
   "execution_count": 12,
   "metadata": {},
   "outputs": [
    {
     "data": {
      "text/plain": [
       "['6001,6002,6003,6007,6006,6005',\n",
       " '6001,6002,6003,6007,6006,6005',\n",
       " '6001,6002,6003,6003,6007,6006,6005',\n",
       " '6001,6002,6003,6003,6007,6006,6005',\n",
       " '6001,6002,6003,6007,6006,6005',\n",
       " '6001,6002,6007,6006,6005',\n",
       " '6001,6002,6003,6007,6006,6005',\n",
       " '6002,6003,6008,6007,6006,6005',\n",
       " '6001,6002,6003,6007,6006,6005',\n",
       " '6001,6002,6003,6007,6007,6006,6005',\n",
       " '6001,6002,6003,6007,6003,6007,6006,6005',\n",
       " '6001,6002,6003,6007,6003,6007,6006,6005',\n",
       " '6001,6002,6003,6007,6003,6002,6003,6007,6006,6005',\n",
       " '6001,6002,6003,6007,6003,6002,6003,6007,6006,6005',\n",
       " '6001,6002,6003,6007,6003,6002,6003,6003,6007,6006,6005',\n",
       " '6001,6002,6003,6007,6003,6002,6003,6003,6007,6006,6005',\n",
       " '6001,6002,6003,6007,6006,6005',\n",
       " '6001,6002,6003,6007,6007,6006,6005',\n",
       " '6001,6002,6003,6007,6002,6007,6006,6005',\n",
       " '6001,6002,6003,6007,6002,6003,6007,6006,6005',\n",
       " '6001,6002,6003,6007,6002,6003,6007,6006,6005',\n",
       " '6002,6003,6007,6006',\n",
       " '6001,6002,6003,6007,6007,6006,6005',\n",
       " '6001,6002,6003,6003,6007,6006,6005',\n",
       " '6001,6002,6003,6003,6007,6006,6005',\n",
       " '6001,6002,6003,6007,6006,6005',\n",
       " '6001,6002,6003,6007,6007,6006,6005']"
      ]
     },
     "execution_count": 12,
     "metadata": {},
     "output_type": "execute_result"
    }
   ],
   "source": [
    "res = []  # 代表存所有路径的数组\n",
    "road = []  # 代表资金流动路径，A->B->C公司转账则为[A,B,C]\n",
    "loop_road = []  # 代表资金流动成环了A->B->C->A,也就是洗钱了\n",
    "\n",
    "\n",
    "# 寻找循环路径\n",
    "# index 代表流动到第index家公司了，index最大为7，也就是最多流动7家公司\n",
    "def loop(road, res, index, road_end):\n",
    "    # 如果路径超过7，不再递归\n",
    "    if index > 6:\n",
    "        return\n",
    "\n",
    "        # 循环查找\n",
    "    for j in range(ds.shape[0]):\n",
    "\n",
    "        # ，如果找到转账的下一家公司\n",
    "        if ds[j][0] == ds[road_end][1]:\n",
    "            # 打印出账公司\n",
    "            # print(ds[j][0])\n",
    "            # 打印不包括入账公司的钱款路径\n",
    "            # print('前路径' + str(road))\n",
    "\n",
    "            # 打印包括入账公司的钱款路径\n",
    "            road_end = j\n",
    "            road.append(ds[j][0])\n",
    "            # print('后路径' + str(road))\n",
    "            # 如果已经找到循环，证明找到了循环路径，打印并结束\n",
    "            if ds[j][1] == road[0]:\n",
    "                loop_road = road\n",
    "                # print('循环路径----------------------------------------')\n",
    "                # print(loop_road)\n",
    "                # print(','.join(str(num) for num in loop_road))\n",
    "                while loop_road[0] != min(loop_road):\n",
    "                    loop_road.insert(0, loop_road[-1])\n",
    "                    loop_road.pop()\n",
    "\n",
    "                res.append(','.join(str(num) for num in loop_road))\n",
    "                return\n",
    "\n",
    "            # 继续寻找钱款流向的下一家公司\n",
    "            loop(road, res, index + 1,road_end)\n",
    "            road.pop()\n",
    "\n",
    "\n",
    "# 程序从这里开始执行，遍历整个数组，如果第二个值的ID1==第一个值的ID2，进入递归函数\n",
    "\n",
    "for road_end in range(ds.shape[0]):\n",
    "    road = []\n",
    "    road.append(ds[road_end][0])\n",
    "\n",
    "    # print('第一层循环' + str(i), str(j))\n",
    "   \n",
    "    loop(road, res, 2, road_end)\n",
    "    road.pop()\n",
    "res"
   ]
  },
  {
   "cell_type": "code",
   "execution_count": null,
   "metadata": {},
   "outputs": [],
   "source": [
    "print('finished.')\n",
    "\n",
    "print('res的长度是：'+str(len(res)))\n",
    "print('res数组是：\\n'+str(res))\n",
    "\n",
    "\n",
    "fh = open('result_cj.txt', 'w', encoding='utf-8')\n",
    "fh.write(str(len(res))+'\\n')\n",
    "for i in range(len(res)):\n",
    "    print(res[i])\n",
    "    fh.write(res[i]+'\\n')\n",
    "fh.close()\n"
   ]
  },
  {
   "cell_type": "code",
   "execution_count": null,
   "metadata": {},
   "outputs": [],
   "source": [
    "import numpy as np\n",
    "a = [[1,2],[3,4]]\n",
    "a = np.array(a)\n",
    "a"
   ]
  },
  {
   "cell_type": "code",
   "execution_count": null,
   "metadata": {},
   "outputs": [],
   "source": [
    "a = [1,2,3,4,5]\n",
    "a"
   ]
  },
  {
   "cell_type": "code",
   "execution_count": null,
   "metadata": {},
   "outputs": [],
   "source": [
    "a.remove\n",
    "a"
   ]
  },
  {
   "cell_type": "code",
   "execution_count": 5,
   "metadata": {},
   "outputs": [
    {
     "data": {
      "text/plain": [
       "[]"
      ]
     },
     "execution_count": 5,
     "metadata": {},
     "output_type": "execute_result"
    }
   ],
   "source": [
    "b = [1,2]\n",
    "del b[:]\n",
    "b"
   ]
  },
  {
   "cell_type": "code",
   "execution_count": null,
   "metadata": {},
   "outputs": [],
   "source": []
  }
 ],
 "metadata": {
  "kernelspec": {
   "display_name": "Python 3",
   "language": "python",
   "name": "python3"
  },
  "language_info": {
   "codemirror_mode": {
    "name": "ipython",
    "version": 3
   },
   "file_extension": ".py",
   "mimetype": "text/x-python",
   "name": "python",
   "nbconvert_exporter": "python",
   "pygments_lexer": "ipython3",
   "version": "3.6.5"
  },
  "pycharm": {
   "stem_cell": {
    "cell_type": "raw",
    "metadata": {
     "collapsed": false
    },
    "source": []
   }
  }
 },
 "nbformat": 4,
 "nbformat_minor": 2
}
