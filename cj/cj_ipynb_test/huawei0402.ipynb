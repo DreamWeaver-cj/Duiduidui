{
 "cells": [
  {
   "cell_type": "code",
   "execution_count": 2,
   "metadata": {},
   "outputs": [],
   "source": [
    "import numpy as np\n",
    "\n",
    "ds = np.genfromtxt('../test_data.txt', delimiter=',', skip_header=1,dtype=int)\n",
    "ds = ds[-10:,:-1]"
   ]
  },
  {
   "cell_type": "code",
   "execution_count": 3,
   "metadata": {},
   "outputs": [
    {
     "name": "stdout",
     "output_type": "stream",
     "text": [
      "finished.\n",
      "res的长度是：2\n",
      "res数组是：\n",
      "['6001,6002,6003,6007,6006,6005', '6002,6003,6007,6006']\n"
     ]
    }
   ],
   "source": [
    "res = []  # 代表存所有路径的数组\n",
    "road = []  # 代表资金流动路径，A->B->C公司转账则为[A,B,C]\n",
    "loop_road = []  # 代表资金流动成环了A->B->C->A,也就是洗钱了\n",
    "\n",
    "\n",
    "# 寻找循环路径\n",
    "# index 代表流动到第index家公司了，index最大为7，也就是最多流动7家公司\n",
    "def loop(road, res, index, i):\n",
    "    # 如果路径超过7，不再递归\n",
    "    if index > 6:\n",
    "        return\n",
    "\n",
    "        # 循环查找\n",
    "    for j in range(i + 1, ds.shape[0]):\n",
    "\n",
    "        # ，如果找到转账的下一家公司\n",
    "        if ds[j][0] == ds[i][1]:\n",
    "            # 打印出账公司\n",
    "            # print(ds[j][0])\n",
    "            # 打印不包括入账公司的钱款路径\n",
    "            # print('前路径' + str(road))\n",
    "\n",
    "            # 打印包括入账公司的钱款路径\n",
    "            road.append(ds[j][0])\n",
    "            # print('后路径' + str(road))\n",
    "            # 如果已经找到循环，证明找到了循环路径，打印并结束\n",
    "            if ds[j][1] == road[0]:\n",
    "                loop_road = road\n",
    "                # print('循环路径----------------------------------------')\n",
    "                # print(loop_road)\n",
    "                # print(','.join(str(num) for num in loop_road))\n",
    "                while loop_road[0] != min(loop_road):\n",
    "                    loop_road.insert(0, loop_road[-1])\n",
    "                    loop_road.pop()\n",
    "\n",
    "                res.append(','.join(str(num) for num in loop_road))\n",
    "                return\n",
    "\n",
    "            # 继续寻找钱款流向的下一家公司\n",
    "            loop(road, res, index + 1, j)\n",
    "            road.pop()\n",
    "\n",
    "\n",
    "# 程序从这里开始执行，遍历整个数组，如果第二个值的ID1==第一个值的ID2，进入递归函数\n",
    "for i in range(ds.shape[0]):\n",
    "    for j in range(i, ds.shape[0] - 1):\n",
    "        if (ds[j][0] == ds[i][1]):\n",
    "            road = []\n",
    "            road.append(ds[i][0])\n",
    "            road.append(ds[i][1])\n",
    "\n",
    "            # print('第一层循环' + str(i), str(j))\n",
    "\n",
    "            loop(road, res, 2, j)\n",
    "print('finished.')\n",
    "\n",
    "print('res的长度是：'+str(len(res)))\n",
    "print('res数组是：\\n'+str(res))"
   ]
  },
  {
   "cell_type": "code",
   "execution_count": null,
   "metadata": {},
   "outputs": [],
   "source": []
  }
 ],
 "metadata": {
  "kernelspec": {
   "display_name": "Python 3",
   "language": "python",
   "name": "python3"
  },
  "language_info": {
   "codemirror_mode": {
    "name": "ipython",
    "version": 3
   },
   "file_extension": ".py",
   "mimetype": "text/x-python",
   "name": "python",
   "nbconvert_exporter": "python",
   "pygments_lexer": "ipython3",
   "version": "3.6.5"
  }
 },
 "nbformat": 4,
 "nbformat_minor": 2
}
