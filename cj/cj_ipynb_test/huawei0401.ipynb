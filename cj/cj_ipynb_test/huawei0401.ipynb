{
 "cells": [
  {
   "cell_type": "code",
   "execution_count": 12,
   "metadata": {},
   "outputs": [],
   "source": [
    "import numpy as np\n",
    "\n",
    "ds = np.genfromtxt('../test_data.txt', delimiter=',', skip_header=1,dtype=int)\n",
    "ds = ds[:20,:-1]"
   ]
  },
  {
   "cell_type": "code",
   "execution_count": 16,
   "metadata": {},
   "outputs": [
    {
     "ename": "AttributeError",
     "evalue": "'numpy.ndarray' object has no attribute 'sorted'",
     "output_type": "error",
     "traceback": [
      "\u001b[1;31m---------------------------------------------------------------------------\u001b[0m",
      "\u001b[1;31mAttributeError\u001b[0m                            Traceback (most recent call last)",
      "\u001b[1;32m<ipython-input-16-f5de21d3c019>\u001b[0m in \u001b[0;36m<module>\u001b[1;34m()\u001b[0m\n\u001b[1;32m----> 1\u001b[1;33m \u001b[0mds\u001b[0m\u001b[1;33m.\u001b[0m\u001b[0msorted\u001b[0m\u001b[1;33m(\u001b[0m\u001b[1;33m)\u001b[0m\u001b[1;33m\u001b[0m\u001b[0m\n\u001b[0m",
      "\u001b[1;31mAttributeError\u001b[0m: 'numpy.ndarray' object has no attribute 'sorted'"
     ]
    }
   ],
   "source": [
    "ds.sorted()"
   ]
  },
  {
   "cell_type": "code",
   "execution_count": null,
   "metadata": {},
   "outputs": [],
   "source": [
    "for i in range()"
   ]
  },
  {
   "cell_type": "code",
   "execution_count": 5,
   "metadata": {},
   "outputs": [
    {
     "name": "stdout",
     "output_type": "stream",
     "text": [
      "第一层循环0 2\n",
      "3 2\n",
      "3\n",
      "前路径[1, 2]\n",
      "后路径[1, 2, 3]\n",
      "4 3\n",
      "4\n",
      "前路径[1, 2, 3]\n",
      "后路径[1, 2, 3, 4]\n",
      "6 4\n",
      "5\n",
      "前路径[1, 2, 3, 4]\n",
      "后路径[1, 2, 3, 4, 5]\n",
      "7 6\n",
      "6\n",
      "前路径[1, 2, 3, 4, 5]\n",
      "后路径[1, 2, 3, 4, 5, 6]\n",
      "8 7\n",
      "7\n",
      "前路径[1, 2, 3, 4, 5, 6]\n",
      "后路径[1, 2, 3, 4, 5, 6, 7]\n",
      "5 3\n",
      "4\n",
      "前路径[1, 2, 3]\n",
      "后路径[1, 2, 3, 4]\n",
      "9 5\n",
      "8\n",
      "前路径[1, 2, 3, 4]\n",
      "后路径[1, 2, 3, 4, 8]\n",
      "循环路径----------------------------------------\n",
      "第一层循环1 4\n",
      "6 4\n",
      "5\n",
      "前路径[1, 4]\n",
      "后路径[1, 4, 5]\n",
      "7 6\n",
      "6\n",
      "前路径[1, 4, 5]\n",
      "后路径[1, 4, 5, 6]\n",
      "8 7\n",
      "7\n",
      "前路径[1, 4, 5, 6]\n",
      "后路径[1, 4, 5, 6, 7]\n",
      "9 8\n",
      "8\n",
      "前路径[1, 4, 5, 6, 7]\n",
      "后路径[1, 4, 5, 6, 7, 8]\n",
      "循环路径----------------------------------------\n",
      "第一层循环1 5\n",
      "9 5\n",
      "8\n",
      "前路径[1, 4]\n",
      "后路径[1, 4, 8]\n",
      "循环路径----------------------------------------\n",
      "第一层循环2 3\n",
      "4 3\n",
      "4\n",
      "前路径[2, 3]\n",
      "后路径[2, 3, 4]\n",
      "6 4\n",
      "5\n",
      "前路径[2, 3, 4]\n",
      "后路径[2, 3, 4, 5]\n",
      "7 6\n",
      "6\n",
      "前路径[2, 3, 4, 5]\n",
      "后路径[2, 3, 4, 5, 6]\n",
      "8 7\n",
      "7\n",
      "前路径[2, 3, 4, 5, 6]\n",
      "后路径[2, 3, 4, 5, 6, 7]\n",
      "9 8\n",
      "8\n",
      "前路径[2, 3, 4, 5, 6, 7]\n",
      "后路径[2, 3, 4, 5, 6, 7, 8]\n",
      "5 3\n",
      "4\n",
      "前路径[2, 3]\n",
      "后路径[2, 3, 4]\n",
      "9 5\n",
      "8\n",
      "前路径[2, 3, 4]\n",
      "后路径[2, 3, 4, 8]\n",
      "第一层循环3 4\n",
      "6 4\n",
      "5\n",
      "前路径[3, 4]\n",
      "后路径[3, 4, 5]\n",
      "7 6\n",
      "6\n",
      "前路径[3, 4, 5]\n",
      "后路径[3, 4, 5, 6]\n",
      "8 7\n",
      "7\n",
      "前路径[3, 4, 5, 6]\n",
      "后路径[3, 4, 5, 6, 7]\n",
      "9 8\n",
      "8\n",
      "前路径[3, 4, 5, 6, 7]\n",
      "后路径[3, 4, 5, 6, 7, 8]\n",
      "第一层循环3 5\n",
      "9 5\n",
      "8\n",
      "前路径[3, 4]\n",
      "后路径[3, 4, 8]\n",
      "第一层循环4 6\n",
      "7 6\n",
      "6\n",
      "前路径[4, 5]\n",
      "后路径[4, 5, 6]\n",
      "8 7\n",
      "7\n",
      "前路径[4, 5, 6]\n",
      "后路径[4, 5, 6, 7]\n",
      "9 8\n",
      "8\n",
      "前路径[4, 5, 6, 7]\n",
      "后路径[4, 5, 6, 7, 8]\n",
      "第一层循环6 7\n",
      "8 7\n",
      "7\n",
      "前路径[5, 6]\n",
      "后路径[5, 6, 7]\n",
      "9 8\n",
      "8\n",
      "前路径[5, 6, 7]\n",
      "后路径[5, 6, 7, 8]\n",
      "第一层循环7 8\n",
      "9 8\n",
      "8\n",
      "前路径[6, 7]\n",
      "后路径[6, 7, 8]\n"
     ]
    }
   ],
   "source": [
    "ds = np.array([[1, 2],\n",
    "               [1, 4],\n",
    "               [2, 3],\n",
    "               [3, 4],\n",
    "               [4, 5],\n",
    "               [4, 8],\n",
    "               [5, 6],\n",
    "               [6, 7],\n",
    "               [7, 8],\n",
    "               [8, 1]\n",
    "               ])\n",
    "res = []  # 代表存所有路径的数组\n",
    "road = []  # 代表资金流动路径，A->B->C公司转账则为[A,B,C]\n",
    "loop_road = []  # 代表资金流动成环了A->B->C->A,也就是洗钱了\n",
    "\n",
    "\n",
    "# 寻找循环路径\n",
    "# index 代表流动到第index家公司了，index最大为7，也就是最多流动7家公司\n",
    "def loop(road, res, index, i):\n",
    "    # 如果路径超过7，不再递归\n",
    "    if index > 6:\n",
    "        return\n",
    "\n",
    "        # 循环查找\n",
    "    for j in range(i + 1, ds.shape[0]):\n",
    "\n",
    "        # ，如果找到转账的下一家公司\n",
    "        if ds[j][0] == ds[i][1]:\n",
    "            print(j,i)\n",
    "            # 打印出账公司\n",
    "            print(ds[j][0])\n",
    "            # 打印不包括入账公司的钱款路径\n",
    "            print('前路径' + str(road))\n",
    "\n",
    "            # 打印包括入账公司的钱款路径\n",
    "            road.append(ds[j][0])\n",
    "            print('后路径' + str(road))\n",
    "            # 如果已经找到循环，证明找到了循环路径，打印并结束\n",
    "            if ds[j][1] in road:\n",
    "                # loop_road = road\n",
    "                print('循环路径----------------------------------------')\n",
    "                # print(loop_road)\n",
    "                return\n",
    "\n",
    "            # 继续寻找钱款流向的下一家公司\n",
    "            loop(road, res, index + 1, j)\n",
    "            road.pop()\n",
    "\n",
    "\n",
    "# 程序从这里开始执行，遍历整个数组，如果第二个值的ID1==第一个值的ID2，进入递归函数\n",
    "for i in range(ds.shape[0]):\n",
    "    for j in range(i, ds.shape[0] - 1):\n",
    "        if (ds[j][0] == ds[i][1]):\n",
    "            road = []\n",
    "            road.append(ds[i][0])\n",
    "            road.append(ds[i][1])\n",
    "\n",
    "            print('第一层循环' + str(i), str(j))\n",
    "\n",
    "            loop(road, res, 2, j)"
   ]
  },
  {
   "cell_type": "markdown",
   "metadata": {},
   "source": [
    "# 第二天"
   ]
  },
  {
   "cell_type": "code",
   "execution_count": 2,
   "metadata": {},
   "outputs": [
    {
     "name": "stdout",
     "output_type": "stream",
     "text": [
      "finished.\n"
     ]
    }
   ],
   "source": [
    "fh = open('result_cj.txt', 'w', encoding='utf-8')\n",
    "fh.write(str(len(res))+'\\n')\n",
    "for i in range(len(res)):\n",
    "    # print(res[i])\n",
    "    fh.write(res[i]+'\\n')\n",
    "fh.close()\n",
    "\n",
    "print('finished.')"
   ]
  },
  {
   "cell_type": "code",
   "execution_count": 7,
   "metadata": {},
   "outputs": [],
   "source": [
    "a = [[18,197,56,7],\n",
    "[23,179,121,8],\n",
    "[24,159,83,9],\n",
    "[26,214,198,5],\n",
    "[27,144,126,6]]\n",
    "b = []"
   ]
  },
  {
   "cell_type": "code",
   "execution_count": 8,
   "metadata": {},
   "outputs": [
    {
     "data": {
      "text/plain": [
       "[[18, 197, 56, 7],\n",
       " [23, 179, 121, 8],\n",
       " [24, 159, 83, 9],\n",
       " [26, 214, 198, 5],\n",
       " [27, 144, 126, 6]]"
      ]
     },
     "execution_count": 8,
     "metadata": {},
     "output_type": "execute_result"
    }
   ],
   "source": [
    "for i in range(len(a)):\n",
    "    b.append(a[i])\n",
    "b"
   ]
  },
  {
   "cell_type": "code",
   "execution_count": null,
   "metadata": {},
   "outputs": [],
   "source": []
  }
 ],
 "metadata": {
  "kernelspec": {
   "display_name": "Python 3",
   "language": "python",
   "name": "python3"
  },
  "language_info": {
   "codemirror_mode": {
    "name": "ipython",
    "version": 3
   },
   "file_extension": ".py",
   "mimetype": "text/x-python",
   "name": "python",
   "nbconvert_exporter": "python",
   "pygments_lexer": "ipython3",
   "version": "3.6.5"
  }
 },
 "nbformat": 4,
 "nbformat_minor": 2
}
