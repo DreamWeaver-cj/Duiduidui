{
 "cells": [
  {
   "cell_type": "code",
   "execution_count": 38,
   "metadata": {},
   "outputs": [
    {
     "data": {
      "text/plain": [
       "array([[ 23,  23],\n",
       "       [ 58,  58],\n",
       "       [ 64,  64],\n",
       "       [ 65,  65],\n",
       "       [ 67,  67],\n",
       "       [ 94,  94],\n",
       "       [121, 121],\n",
       "       [128, 128],\n",
       "       [145, 145],\n",
       "       [149, 149],\n",
       "       [158, 158],\n",
       "       [164, 164],\n",
       "       [175, 175],\n",
       "       [179, 179],\n",
       "       [205, 205],\n",
       "       [231, 231],\n",
       "       [234, 234],\n",
       "       [255, 255],\n",
       "       [295, 271],\n",
       "       [296, 295]])"
      ]
     },
     "execution_count": 38,
     "metadata": {},
     "output_type": "execute_result"
    }
   ],
   "source": [
    "import numpy as np\n",
    "\n",
    "dataset = np.genfromtxt('../test_data.txt', delimiter=',', dtype=int)\n",
    "dataset.shape\n",
    "\n",
    "ds = dataset[:20]\n",
    "ds = ds[:, :-1]\n",
    "ds\n",
    "ds.sort(axis = 0)\n",
    "ds"
   ]
  },
  {
   "cell_type": "code",
   "execution_count": 35,
   "metadata": {},
   "outputs": [
    {
     "ename": "ValueError",
     "evalue": "Cannot specify order when the array has no fields.",
     "output_type": "error",
     "traceback": [
      "\u001b[1;31m---------------------------------------------------------------------------\u001b[0m",
      "\u001b[1;31mValueError\u001b[0m                                Traceback (most recent call last)",
      "\u001b[1;32m<ipython-input-35-f07e69357011>\u001b[0m in \u001b[0;36m<module>\u001b[1;34m()\u001b[0m\n\u001b[1;32m----> 1\u001b[1;33m \u001b[0mds\u001b[0m\u001b[1;33m.\u001b[0m\u001b[0msort\u001b[0m\u001b[1;33m(\u001b[0m\u001b[0maxis\u001b[0m \u001b[1;33m=\u001b[0m \u001b[1;36m1\u001b[0m\u001b[1;33m,\u001b[0m\u001b[0morder\u001b[0m \u001b[1;33m=\u001b[0m \u001b[1;36m1\u001b[0m\u001b[1;33m)\u001b[0m\u001b[1;33m\u001b[0m\u001b[0m\n\u001b[0m\u001b[0;32m      2\u001b[0m \u001b[0mds\u001b[0m\u001b[1;33m\u001b[0m\u001b[0m\n",
      "\u001b[1;31mValueError\u001b[0m: Cannot specify order when the array has no fields."
     ]
    }
   ],
   "source": [
    "ds.sort(axis = 1)\n",
    "ds"
   ]
  },
  {
   "cell_type": "code",
   "execution_count": 3,
   "metadata": {},
   "outputs": [
    {
     "name": "stdout",
     "output_type": "stream",
     "text": [
      "[1 2]\n",
      "[1 4]\n",
      "[2 3]\n",
      "[3 4]\n",
      "[4 5]\n",
      "[4 8]\n",
      "[5 6]\n",
      "[6 7]\n",
      "[7 8]\n",
      "[8 1]\n"
     ]
    }
   ],
   "source": [
    "for i in ds:\n",
    "    print(i)"
   ]
  },
  {
   "cell_type": "code",
   "execution_count": 5,
   "metadata": {},
   "outputs": [
    {
     "name": "stdout",
     "output_type": "stream",
     "text": [
      "第一层循环0 2\n",
      "3 2\n",
      "3\n",
      "前路径[1, 2]\n",
      "后路径[1, 2, 3]\n",
      "4 3\n",
      "4\n",
      "前路径[1, 2, 3]\n",
      "后路径[1, 2, 3, 4]\n",
      "6 4\n",
      "5\n",
      "前路径[1, 2, 3, 4]\n",
      "后路径[1, 2, 3, 4, 5]\n",
      "7 6\n",
      "6\n",
      "前路径[1, 2, 3, 4, 5]\n",
      "后路径[1, 2, 3, 4, 5, 6]\n",
      "8 7\n",
      "7\n",
      "前路径[1, 2, 3, 4, 5, 6]\n",
      "后路径[1, 2, 3, 4, 5, 6, 7]\n",
      "5 3\n",
      "4\n",
      "前路径[1, 2, 3]\n",
      "后路径[1, 2, 3, 4]\n",
      "9 5\n",
      "8\n",
      "前路径[1, 2, 3, 4]\n",
      "后路径[1, 2, 3, 4, 8]\n",
      "循环路径----------------------------------------\n",
      "第一层循环1 4\n",
      "6 4\n",
      "5\n",
      "前路径[1, 4]\n",
      "后路径[1, 4, 5]\n",
      "7 6\n",
      "6\n",
      "前路径[1, 4, 5]\n",
      "后路径[1, 4, 5, 6]\n",
      "8 7\n",
      "7\n",
      "前路径[1, 4, 5, 6]\n",
      "后路径[1, 4, 5, 6, 7]\n",
      "9 8\n",
      "8\n",
      "前路径[1, 4, 5, 6, 7]\n",
      "后路径[1, 4, 5, 6, 7, 8]\n",
      "循环路径----------------------------------------\n",
      "第一层循环1 5\n",
      "9 5\n",
      "8\n",
      "前路径[1, 4]\n",
      "后路径[1, 4, 8]\n",
      "循环路径----------------------------------------\n",
      "第一层循环2 3\n",
      "4 3\n",
      "4\n",
      "前路径[2, 3]\n",
      "后路径[2, 3, 4]\n",
      "6 4\n",
      "5\n",
      "前路径[2, 3, 4]\n",
      "后路径[2, 3, 4, 5]\n",
      "7 6\n",
      "6\n",
      "前路径[2, 3, 4, 5]\n",
      "后路径[2, 3, 4, 5, 6]\n",
      "8 7\n",
      "7\n",
      "前路径[2, 3, 4, 5, 6]\n",
      "后路径[2, 3, 4, 5, 6, 7]\n",
      "9 8\n",
      "8\n",
      "前路径[2, 3, 4, 5, 6, 7]\n",
      "后路径[2, 3, 4, 5, 6, 7, 8]\n",
      "5 3\n",
      "4\n",
      "前路径[2, 3]\n",
      "后路径[2, 3, 4]\n",
      "9 5\n",
      "8\n",
      "前路径[2, 3, 4]\n",
      "后路径[2, 3, 4, 8]\n",
      "第一层循环3 4\n",
      "6 4\n",
      "5\n",
      "前路径[3, 4]\n",
      "后路径[3, 4, 5]\n",
      "7 6\n",
      "6\n",
      "前路径[3, 4, 5]\n",
      "后路径[3, 4, 5, 6]\n",
      "8 7\n",
      "7\n",
      "前路径[3, 4, 5, 6]\n",
      "后路径[3, 4, 5, 6, 7]\n",
      "9 8\n",
      "8\n",
      "前路径[3, 4, 5, 6, 7]\n",
      "后路径[3, 4, 5, 6, 7, 8]\n",
      "第一层循环3 5\n",
      "9 5\n",
      "8\n",
      "前路径[3, 4]\n",
      "后路径[3, 4, 8]\n",
      "第一层循环4 6\n",
      "7 6\n",
      "6\n",
      "前路径[4, 5]\n",
      "后路径[4, 5, 6]\n",
      "8 7\n",
      "7\n",
      "前路径[4, 5, 6]\n",
      "后路径[4, 5, 6, 7]\n",
      "9 8\n",
      "8\n",
      "前路径[4, 5, 6, 7]\n",
      "后路径[4, 5, 6, 7, 8]\n",
      "第一层循环6 7\n",
      "8 7\n",
      "7\n",
      "前路径[5, 6]\n",
      "后路径[5, 6, 7]\n",
      "9 8\n",
      "8\n",
      "前路径[5, 6, 7]\n",
      "后路径[5, 6, 7, 8]\n",
      "第一层循环7 8\n",
      "9 8\n",
      "8\n",
      "前路径[6, 7]\n",
      "后路径[6, 7, 8]\n"
     ]
    }
   ],
   "source": [
    "ds = np.array([[1, 2],\n",
    "               [1, 4],\n",
    "               [2, 3],\n",
    "               [3, 4],\n",
    "               [4, 5],\n",
    "               [4, 8],\n",
    "               [5, 6],\n",
    "               [6, 7],\n",
    "               [7, 8],\n",
    "               [8, 1]\n",
    "               ])\n",
    "res = []  # 代表存所有路径的数组\n",
    "road = []  # 代表资金流动路径，A->B->C公司转账则为[A,B,C]\n",
    "loop_road = []  # 代表资金流动成环了A->B->C->A,也就是洗钱了\n",
    "\n",
    "\n",
    "# 寻找循环路径\n",
    "# index 代表流动到第index家公司了，index最大为7，也就是最多流动7家公司\n",
    "def loop(road, res, index, i):\n",
    "    # 如果路径超过7，不再递归\n",
    "    if index > 6:\n",
    "        return\n",
    "\n",
    "        # 循环查找\n",
    "    for j in range(i + 1, ds.shape[0]):\n",
    "\n",
    "        # ，如果找到转账的下一家公司\n",
    "        if ds[j][0] == ds[i][1]:\n",
    "            print(j,i)\n",
    "            # 打印出账公司\n",
    "            print(ds[j][0])\n",
    "            # 打印不包括入账公司的钱款路径\n",
    "            print('前路径' + str(road))\n",
    "\n",
    "            # 打印包括入账公司的钱款路径\n",
    "            road.append(ds[j][0])\n",
    "            print('后路径' + str(road))\n",
    "            # 如果已经找到循环，证明找到了循环路径，打印并结束\n",
    "            if ds[j][1] in road:\n",
    "                # loop_road = road\n",
    "                print('循环路径----------------------------------------')\n",
    "                # print(loop_road)\n",
    "                return\n",
    "\n",
    "            # 继续寻找钱款流向的下一家公司\n",
    "            loop(road, res, index + 1, j)\n",
    "            road.pop()\n",
    "\n",
    "\n",
    "# 程序从这里开始执行，遍历整个数组，如果第二个值的ID1==第一个值的ID2，进入递归函数\n",
    "for i in range(ds.shape[0]):\n",
    "    for j in range(i, ds.shape[0] - 1):\n",
    "        if (ds[j][0] == ds[i][1]):\n",
    "            road = []\n",
    "            road.append(ds[i][0])\n",
    "            road.append(ds[i][1])\n",
    "\n",
    "            print('第一层循环' + str(i), str(j))\n",
    "\n",
    "            loop(road, res, 2, j)"
   ]
  },
  {
   "cell_type": "markdown",
   "metadata": {},
   "source": [
    "# 第一天"
   ]
  },
  {
   "cell_type": "code",
   "execution_count": null,
   "metadata": {},
   "outputs": [],
   "source": [
    "#%%\n",
    "res = ['158,295,175', '23,179,121', '128,231,64', '149,58,164', '145,234,94', '145,234,505,413,485', '65,67,205', '296,255,271', '223,94,91', '237,114,94', '194,192,150', '159,83,24', '18,197,56', '27,144,126', '188,139,61', '26,214,198', '437,572,501,456', '383,208,375,447', '234,505,413,485', '564,501,382,338', '434,476,242,440', '587,293,528,460', '299,558,259,409', '272,593,300,546', '542,303,395,500', '582,325,222,227', '1190,1129,993,961,652', '699,614,777,675,755', '569,748,708,575,551', '1143,826,757,628,1077', '877,1041,1054,903,996', '521,1245,513,1226,1160', '835,745,1124,1066,799', '1067,1163,1162,1010,1129', '2250,2052,1436,1710,2113,2165', '2052,1436,1594,1375,1005,1359,2246', '2393,2043,2276,1466,1889,1115', '1609,1776,1707,2414,1782,1703', '1661,1181,1999,1966,2287,1050', '1763,2112,1655,1627,1359,2391', '1763,2112,1655,1627,1627,2196', '2112,1655,1627,2196', '2099,1574,1195,1931,2354,1697', '1436,1594,1375,1005,1359,2246', '2142,2027,2171,1192,1755,2061', '1780,1627,2196,2112,1630,1131', '4699,4210,3055,3004,3367,2651,3516', '4589,4924,3930,4075,4671,3454,3480', '2541,2633,4954,3847,4426,4898,2395', '2619,2375,2504,3275,4338,2803,4258', '4996,2315,4836,3024,3789,2418,4685', '3926,3610,4892,2311,2824,4463,3871', '2934,3453,4281,2666,4459,3708,3490', '3574,3742,3488,2990,4147,2921,3541', '3902,2323,3967,2515,3059,4589,4785', '4098,4407,2563,3761,3196,3635,3586', '6001,6002,6003,6007,6006,6005', '6001,6002,6003,6007,6006,6006', '6001,6002,6003,6007,6003,6004,6008', '6002,6003,6007,6006']\n",
    "\n",
    "fh = open('result_cj.txt', 'w', encoding='utf-8')\n",
    "fh.write(str(len(res))+'\\n')\n",
    "for i in range(10):\n",
    "    # print(res[i])\n",
    "    fh.write(res[i]+'\\n')\n",
    "fh.close()\n",
    "\n",
    "print('finished.')\n",
    "#%%\n",
    "res = ['158,295,175', '23,179,121', '128,231,64', '149,58,164', '145,234,94', '145,234,505,413,485', '65,67,205', '296,255,271', '223,94,91', '237,114,94', '194,192,150', '159,83,24', '18,197,56', '27,144,126', '188,139,61', '26,214,198', '437,572,501,456', '383,208,375,447', '234,505,413,485', '564,501,382,338', '434,476,242,440', '587,293,528,460', '299,558,259,409', '272,593,300,546', '542,303,395,500', '582,325,222,227', '1190,1129,993,961,652', '699,614,777,675,755', '569,748,708,575,551', '1143,826,757,628,1077', '877,1041,1054,903,996', '521,1245,513,1226,1160', '835,745,1124,1066,799', '1067,1163,1162,1010,1129', '2250,2052,1436,1710,2113,2165', '2052,1436,1594,1375,1005,1359,2246', '2393,2043,2276,1466,1889,1115', '1609,1776,1707,2414,1782,1703', '1661,1181,1999,1966,2287,1050', '1763,2112,1655,1627,1359,2391', '1763,2112,1655,1627,1627,2196', '2112,1655,1627,2196', '2099,1574,1195,1931,2354,1697', '1436,1594,1375,1005,1359,2246', '2142,2027,2171,1192,1755,2061', '1780,1627,2196,2112,1630,1131', '4699,4210,3055,3004,3367,2651,3516', '4589,4924,3930,4075,4671,3454,3480', '2541,2633,4954,3847,4426,4898,2395', '2619,2375,2504,3275,4338,2803,4258', '4996,2315,4836,3024,3789,2418,4685', '3926,3610,4892,2311,2824,4463,3871', '2934,3453,4281,2666,4459,3708,3490', '3574,3742,3488,2990,4147,2921,3541', '3902,2323,3967,2515,3059,4589,4785', '4098,4407,2563,3761,3196,3635,3586', '6001,6002,6003,6007,6006,6005', '6001,6002,6003,6007,6006,6006', '6001,6002,6003,6007,6003,6004,6008', '6002,6003,6007,6006']\n",
    "\n",
    "import numpy as np\n",
    "\n",
    "np.savetxt('result_cj.txt', (res))"
   ]
  },
  {
   "cell_type": "code",
   "execution_count": 6,
   "metadata": {},
   "outputs": [
    {
     "ename": "ValueError",
     "evalue": "Some errors were detected !\n    Line #2 (got 3 columns instead of 1)\n    Line #3 (got 3 columns instead of 1)\n    Line #4 (got 3 columns instead of 1)\n    Line #5 (got 3 columns instead of 1)\n    Line #6 (got 3 columns instead of 1)\n    Line #7 (got 5 columns instead of 1)\n    Line #8 (got 3 columns instead of 1)\n    Line #9 (got 3 columns instead of 1)\n    Line #10 (got 3 columns instead of 1)\n    Line #11 (got 3 columns instead of 1)\n    Line #12 (got 3 columns instead of 1)\n    Line #13 (got 3 columns instead of 1)\n    Line #14 (got 3 columns instead of 1)\n    Line #15 (got 3 columns instead of 1)\n    Line #16 (got 3 columns instead of 1)\n    Line #17 (got 3 columns instead of 1)\n    Line #18 (got 4 columns instead of 1)\n    Line #19 (got 4 columns instead of 1)\n    Line #20 (got 4 columns instead of 1)\n    Line #21 (got 4 columns instead of 1)\n    Line #22 (got 4 columns instead of 1)\n    Line #23 (got 4 columns instead of 1)\n    Line #24 (got 4 columns instead of 1)\n    Line #25 (got 4 columns instead of 1)\n    Line #26 (got 4 columns instead of 1)\n    Line #27 (got 4 columns instead of 1)\n    Line #28 (got 5 columns instead of 1)\n    Line #29 (got 5 columns instead of 1)\n    Line #30 (got 5 columns instead of 1)\n    Line #31 (got 5 columns instead of 1)\n    Line #32 (got 5 columns instead of 1)\n    Line #33 (got 5 columns instead of 1)\n    Line #34 (got 5 columns instead of 1)\n    Line #35 (got 5 columns instead of 1)\n    Line #36 (got 6 columns instead of 1)\n    Line #37 (got 7 columns instead of 1)\n    Line #38 (got 6 columns instead of 1)\n    Line #39 (got 6 columns instead of 1)\n    Line #40 (got 6 columns instead of 1)\n    Line #41 (got 6 columns instead of 1)\n    Line #42 (got 6 columns instead of 1)\n    Line #43 (got 4 columns instead of 1)\n    Line #44 (got 6 columns instead of 1)\n    Line #45 (got 6 columns instead of 1)\n    Line #46 (got 6 columns instead of 1)\n    Line #47 (got 6 columns instead of 1)\n    Line #48 (got 7 columns instead of 1)\n    Line #49 (got 7 columns instead of 1)\n    Line #50 (got 7 columns instead of 1)\n    Line #51 (got 7 columns instead of 1)\n    Line #52 (got 7 columns instead of 1)\n    Line #53 (got 7 columns instead of 1)\n    Line #54 (got 7 columns instead of 1)\n    Line #55 (got 7 columns instead of 1)\n    Line #56 (got 7 columns instead of 1)\n    Line #57 (got 7 columns instead of 1)\n    Line #58 (got 6 columns instead of 1)\n    Line #59 (got 6 columns instead of 1)\n    Line #60 (got 7 columns instead of 1)\n    Line #61 (got 4 columns instead of 1)",
     "output_type": "error",
     "traceback": [
      "\u001b[1;31m---------------------------------------------------------------------------\u001b[0m",
      "\u001b[1;31mValueError\u001b[0m                                Traceback (most recent call last)",
      "\u001b[1;32m<ipython-input-6-443aa96e7b88>\u001b[0m in \u001b[0;36m<module>\u001b[1;34m()\u001b[0m\n\u001b[0;32m      1\u001b[0m \u001b[1;32mimport\u001b[0m \u001b[0mnumpy\u001b[0m \u001b[1;32mas\u001b[0m \u001b[0mnp\u001b[0m\u001b[1;33m\u001b[0m\u001b[0m\n\u001b[0;32m      2\u001b[0m \u001b[1;33m\u001b[0m\u001b[0m\n\u001b[1;32m----> 3\u001b[1;33m \u001b[0mdataset\u001b[0m \u001b[1;33m=\u001b[0m \u001b[0mnp\u001b[0m\u001b[1;33m.\u001b[0m\u001b[0mgenfromtxt\u001b[0m\u001b[1;33m(\u001b[0m\u001b[1;34m'result_cj.txt'\u001b[0m\u001b[1;33m,\u001b[0m \u001b[0mdelimiter\u001b[0m\u001b[1;33m=\u001b[0m\u001b[1;34m','\u001b[0m\u001b[1;33m,\u001b[0m \u001b[0mdtype\u001b[0m\u001b[1;33m=\u001b[0m\u001b[0mstr\u001b[0m\u001b[1;33m)\u001b[0m\u001b[1;33m\u001b[0m\u001b[0m\n\u001b[0m",
      "\u001b[1;32mC:\\ProgramData\\Anaconda3\\lib\\site-packages\\numpy\\lib\\npyio.py\u001b[0m in \u001b[0;36mgenfromtxt\u001b[1;34m(fname, dtype, comments, delimiter, skip_header, skip_footer, converters, missing_values, filling_values, usecols, names, excludelist, deletechars, replace_space, autostrip, case_sensitive, defaultfmt, unpack, usemask, loose, invalid_raise, max_rows, encoding)\u001b[0m\n\u001b[0;32m   2101\u001b[0m             \u001b[1;31m# Raise an exception ?\u001b[0m\u001b[1;33m\u001b[0m\u001b[1;33m\u001b[0m\u001b[0m\n\u001b[0;32m   2102\u001b[0m             \u001b[1;32mif\u001b[0m \u001b[0minvalid_raise\u001b[0m\u001b[1;33m:\u001b[0m\u001b[1;33m\u001b[0m\u001b[0m\n\u001b[1;32m-> 2103\u001b[1;33m                 \u001b[1;32mraise\u001b[0m \u001b[0mValueError\u001b[0m\u001b[1;33m(\u001b[0m\u001b[0merrmsg\u001b[0m\u001b[1;33m)\u001b[0m\u001b[1;33m\u001b[0m\u001b[0m\n\u001b[0m\u001b[0;32m   2104\u001b[0m             \u001b[1;31m# Issue a warning ?\u001b[0m\u001b[1;33m\u001b[0m\u001b[1;33m\u001b[0m\u001b[0m\n\u001b[0;32m   2105\u001b[0m             \u001b[1;32melse\u001b[0m\u001b[1;33m:\u001b[0m\u001b[1;33m\u001b[0m\u001b[0m\n",
      "\u001b[1;31mValueError\u001b[0m: Some errors were detected !\n    Line #2 (got 3 columns instead of 1)\n    Line #3 (got 3 columns instead of 1)\n    Line #4 (got 3 columns instead of 1)\n    Line #5 (got 3 columns instead of 1)\n    Line #6 (got 3 columns instead of 1)\n    Line #7 (got 5 columns instead of 1)\n    Line #8 (got 3 columns instead of 1)\n    Line #9 (got 3 columns instead of 1)\n    Line #10 (got 3 columns instead of 1)\n    Line #11 (got 3 columns instead of 1)\n    Line #12 (got 3 columns instead of 1)\n    Line #13 (got 3 columns instead of 1)\n    Line #14 (got 3 columns instead of 1)\n    Line #15 (got 3 columns instead of 1)\n    Line #16 (got 3 columns instead of 1)\n    Line #17 (got 3 columns instead of 1)\n    Line #18 (got 4 columns instead of 1)\n    Line #19 (got 4 columns instead of 1)\n    Line #20 (got 4 columns instead of 1)\n    Line #21 (got 4 columns instead of 1)\n    Line #22 (got 4 columns instead of 1)\n    Line #23 (got 4 columns instead of 1)\n    Line #24 (got 4 columns instead of 1)\n    Line #25 (got 4 columns instead of 1)\n    Line #26 (got 4 columns instead of 1)\n    Line #27 (got 4 columns instead of 1)\n    Line #28 (got 5 columns instead of 1)\n    Line #29 (got 5 columns instead of 1)\n    Line #30 (got 5 columns instead of 1)\n    Line #31 (got 5 columns instead of 1)\n    Line #32 (got 5 columns instead of 1)\n    Line #33 (got 5 columns instead of 1)\n    Line #34 (got 5 columns instead of 1)\n    Line #35 (got 5 columns instead of 1)\n    Line #36 (got 6 columns instead of 1)\n    Line #37 (got 7 columns instead of 1)\n    Line #38 (got 6 columns instead of 1)\n    Line #39 (got 6 columns instead of 1)\n    Line #40 (got 6 columns instead of 1)\n    Line #41 (got 6 columns instead of 1)\n    Line #42 (got 6 columns instead of 1)\n    Line #43 (got 4 columns instead of 1)\n    Line #44 (got 6 columns instead of 1)\n    Line #45 (got 6 columns instead of 1)\n    Line #46 (got 6 columns instead of 1)\n    Line #47 (got 6 columns instead of 1)\n    Line #48 (got 7 columns instead of 1)\n    Line #49 (got 7 columns instead of 1)\n    Line #50 (got 7 columns instead of 1)\n    Line #51 (got 7 columns instead of 1)\n    Line #52 (got 7 columns instead of 1)\n    Line #53 (got 7 columns instead of 1)\n    Line #54 (got 7 columns instead of 1)\n    Line #55 (got 7 columns instead of 1)\n    Line #56 (got 7 columns instead of 1)\n    Line #57 (got 7 columns instead of 1)\n    Line #58 (got 6 columns instead of 1)\n    Line #59 (got 6 columns instead of 1)\n    Line #60 (got 7 columns instead of 1)\n    Line #61 (got 4 columns instead of 1)"
     ]
    }
   ],
   "source": [
    "import numpy as np\n",
    "\n",
    "dataset = np.genfromtxt('result_cj.txt', delimiter=',', dtype=str)\n"
   ]
  },
  {
   "cell_type": "code",
   "execution_count": null,
   "metadata": {},
   "outputs": [],
   "source": [
    "18,197,56\n",
    "23,179,121\n",
    "24,159,83\n",
    "26,214,198\n",
    "27,144,126"
   ]
  },
  {
   "cell_type": "code",
   "execution_count": 3,
   "metadata": {},
   "outputs": [],
   "source": [
    "a = [513,1226,1160,5,1245]\n"
   ]
  },
  {
   "cell_type": "code",
   "execution_count": 4,
   "metadata": {},
   "outputs": [
    {
     "data": {
      "text/plain": [
       "[5, 1245, 513, 1226, 1160]"
      ]
     },
     "execution_count": 4,
     "metadata": {},
     "output_type": "execute_result"
    }
   ],
   "source": [
    "while(a[0] != min(a)):\n",
    "    a.insert(0,a[-1])\n",
    "    a.pop()\n",
    "a"
   ]
  },
  {
   "cell_type": "code",
   "execution_count": null,
   "metadata": {},
   "outputs": [],
   "source": [
    "26,214,198\n",
    "437,572,501,456\n",
    "1,2,3,4,5,6"
   ]
  },
  {
   "cell_type": "code",
   "execution_count": 6,
   "metadata": {},
   "outputs": [
    {
     "ename": "SyntaxError",
     "evalue": "invalid syntax (<ipython-input-6-5603ce0856f8>, line 3)",
     "output_type": "error",
     "traceback": [
      "\u001b[1;36m  File \u001b[1;32m\"<ipython-input-6-5603ce0856f8>\"\u001b[1;36m, line \u001b[1;32m3\u001b[0m\n\u001b[1;33m    res{i} = []\u001b[0m\n\u001b[1;37m       ^\u001b[0m\n\u001b[1;31mSyntaxError\u001b[0m\u001b[1;31m:\u001b[0m invalid syntax\n"
     ]
    }
   ],
   "source": [
    "res3 = []\n",
    "res4 = []\n",
    "tt = 3\n",
    "for i in range(3,8):\n",
    "    print(i)\n",
    "    res{i} = []"
   ]
  },
  {
   "cell_type": "code",
   "execution_count": 23,
   "metadata": {},
   "outputs": [
    {
     "data": {
      "text/plain": [
       "[['asdf'], ['asdf']]"
      ]
     },
     "execution_count": 23,
     "metadata": {},
     "output_type": "execute_result"
    }
   ],
   "source": [
    "tt =['asdf']\n",
    "for i in range(5):\n",
    "    exec('loop_road{} = []'.format(i))\n",
    "    exec('loop_road{}.append({})'.format(i,tt))\n",
    "    exec('loop_road{}.append({})'.format(i,tt))\n",
    "loop_road4"
   ]
  },
  {
   "cell_type": "code",
   "execution_count": 13,
   "metadata": {},
   "outputs": [
    {
     "ename": "IndentationError",
     "evalue": "expected an indented block (<ipython-input-13-e302bba828a5>, line 4)",
     "output_type": "error",
     "traceback": [
      "\u001b[1;36m  File \u001b[1;32m\"<ipython-input-13-e302bba828a5>\"\u001b[1;36m, line \u001b[1;32m4\u001b[0m\n\u001b[1;33m    names['n' + str(i) ] = i\u001b[0m\n\u001b[1;37m        ^\u001b[0m\n\u001b[1;31mIndentationError\u001b[0m\u001b[1;31m:\u001b[0m expected an indented block\n"
     ]
    }
   ],
   "source": [
    "names = locals()\n",
    "\n",
    "for i in range(5):\n",
    "names['n' + str(i) ] = i\n",
    "\n",
    "print(n0, n1, n2, n3, n4)\n",
    "\n"
   ]
  },
  {
   "cell_type": "code",
   "execution_count": null,
   "metadata": {},
   "outputs": [],
   "source": [
    "for i in range(5):\n",
    "   ...:     exec('print(var{}, end=\" \")'.format(i))"
   ]
  }
 ],
 "metadata": {
  "kernelspec": {
   "display_name": "Python 3",
   "language": "python",
   "name": "python3"
  },
  "language_info": {
   "codemirror_mode": {
    "name": "ipython",
    "version": 3
   },
   "file_extension": ".py",
   "mimetype": "text/x-python",
   "name": "python",
   "nbconvert_exporter": "python",
   "pygments_lexer": "ipython3",
   "version": "3.6.5"
  }
 },
 "nbformat": 4,
 "nbformat_minor": 2
}
